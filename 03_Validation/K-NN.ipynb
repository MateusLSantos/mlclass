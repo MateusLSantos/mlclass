{
 "cells": [
  {
   "cell_type": "code",
   "execution_count": 1,
   "metadata": {},
   "outputs": [],
   "source": [
    "import pandas"
   ]
  },
  {
   "cell_type": "code",
   "execution_count": 2,
   "metadata": {},
   "outputs": [],
   "source": [
    "import random"
   ]
  },
  {
   "cell_type": "code",
   "execution_count": 3,
   "metadata": {},
   "outputs": [],
   "source": [
    "from sklearn.neighbors import KNeighborsClassifier"
   ]
  },
  {
   "cell_type": "code",
   "execution_count": 4,
   "metadata": {},
   "outputs": [],
   "source": [
    "abalones = pandas.read_excel(\"dataset_processado.xlsx\");\n",
    "test = pandas.read_excel(\"app_processado.xlsx\");\n",
    "\n",
    "accuracy = {}; #Grupo de parâmetros: acurácia"
   ]
  },
  {
   "cell_type": "code",
   "execution_count": 5,
   "metadata": {},
   "outputs": [],
   "source": [
    "#Parâmetros de teste\n",
    "numReps = 10;\n",
    "numChanges = 1;\n",
    "randomSplit = 0.2;\n",
    "\n",
    "numPop = 100;\n",
    "mutationRate = 0.02;\n",
    "generations = 20;\n",
    "population = {}\n",
    "\n",
    "for n in range(numPop):\n",
    "    population[n] = [0,0,0,0,0,0,0,0,3]"
   ]
  },
  {
   "cell_type": "code",
   "execution_count": 6,
   "metadata": {},
   "outputs": [],
   "source": [
    "def generatePop():\n",
    "    for m in range(numPop):\n",
    "        newPop = [];\n",
    "        for n in range(8):\n",
    "            newPop.append(random.randrange(101))\n",
    "        newPop.append(random.randrange(3,100))\n",
    "        population[m] = newPop;"
   ]
  },
  {
   "cell_type": "code",
   "execution_count": 7,
   "metadata": {},
   "outputs": [],
   "source": [
    "def checkFitness(weights):\n",
    "    accuracyResults = [];\n",
    "    for num in range(numReps):\n",
    "        knn = KNeighborsClassifier(n_neighbors = weights[8]);\n",
    "\n",
    "        #Selecionando índices para teste e treino\n",
    "        trainingIndexes = [];\n",
    "        testIndexes = [];\n",
    "        n = 0;\n",
    "        for item in abalones[\"sex\"]:\n",
    "            if random.random() > randomSplit:\n",
    "                trainingIndexes.append(n)\n",
    "            else:\n",
    "                testIndexes.append(n)\n",
    "            n+=1\n",
    "\n",
    "        #Criando os dataframes de treino e teste e separando os classificadores\n",
    "        testData = abalones.drop(trainingIndexes);\n",
    "        testClasses = testData[\"type\"];\n",
    "        testData = testData.drop(columns=[\"type\"]);\n",
    "\n",
    "        trainingData = abalones.drop(testIndexes);\n",
    "        classifications = trainingData[\"type\"]\n",
    "        trainingData = trainingData.drop(columns=[\"type\"])\n",
    "\n",
    "        #Aplicando pesos\n",
    "        n = 0;\n",
    "        for col in trainingData.columns:\n",
    "            trainingData[col] = trainingData[col]*weights[n]\n",
    "            testData[col] = testData[col]*weights[n]\n",
    "            n+=1\n",
    "\n",
    "        #Aplicando K-NN\n",
    "        knn.fit(trainingData, classifications)\n",
    "\n",
    "        results = knn.predict(testData);\n",
    "\n",
    "        #Testando acurácia\n",
    "        n = 0;\n",
    "        correctPredictions = 0;\n",
    "        for item in testClasses:\n",
    "            if item == results[n]:\n",
    "                correctPredictions += 1;\n",
    "            n+=1  \n",
    "\n",
    "        acc = correctPredictions/len(results)\n",
    "        accuracyResults.append(acc)\n",
    "\n",
    "    return sum(accuracyResults)/len(accuracyResults)\n",
    "    '''print(\"Acurácia média em \" + str(numReps) + \" tentativas: \" + str(meanAcc))\n",
    "    print(\"\\n----- PARÂMETROS -----\\nNúmero de Vizinhos: \" + str(weights[8])\n",
    "          + \"\\nSexo: \" + str(weights[0]) \n",
    "          + \"\\nComprimento: \" + str(weights[1])\n",
    "          + \"\\nDiâmetro: \" + str(weights[2])\n",
    "          + \"\\nAltura: \" + str(weights[3])\n",
    "          + \"\\nPeso cheio: \" + str(weights[4])\n",
    "          + \"\\nPeso vazio: \" + str(weights[5])\n",
    "          + \"\\nPeso das vísceras: \" + str(weights[6])\n",
    "          + \"\\nPeso da concha: \" + str(weights[7]) + \"\\n\\n\"\n",
    "         )'''"
   ]
  },
  {
   "cell_type": "code",
   "execution_count": 8,
   "metadata": {},
   "outputs": [],
   "source": [
    "def getFitness():\n",
    "    results = {};\n",
    "    for n in range(numPop):\n",
    "        results[n] = checkFitness(population[n]);\n",
    "        #print (\"Checando a adequação de \"+ str(n+1) + \" de \" + str(numPop) )\n",
    "    return results"
   ]
  },
  {
   "cell_type": "code",
   "execution_count": 9,
   "metadata": {},
   "outputs": [],
   "source": [
    "def selection(fitness):\n",
    "    #Normalizando a chance de reprodução de acordo com o fitness\n",
    "    best = max(fitness.values())\n",
    "    worst =  min(fitness.values())\n",
    "    for k in fitness.keys():\n",
    "        fitness[k] = (fitness[k]-worst) / (best-worst)\n",
    "    \n",
    "    #Agora, com a tabela normalizada, temos a probabilidade de reprodução entre 0 e 1. Enquanto o tamanho da população não for\n",
    "    #50% do original, continuamos removendo\n",
    "\n",
    "    removed = 0;\n",
    "    tries = 0;\n",
    "    #print(numPop/2)\n",
    "    while removed < (numPop/2) and tries < 2000:\n",
    "        ind = random.randrange(numPop);\n",
    "        #print(\"Índice: \" + str(ind) + \"\\nParâmetros: \" + str(population[ind]));\n",
    "        #Ignorar se já foi removido\n",
    "        if population[ind] == 0:\n",
    "            tries+=1\n",
    "            continue;\n",
    "        else:\n",
    "            if random.random() > fitness[ind]:\n",
    "                #print(\"População removida.\")\n",
    "                removed+=1\n",
    "                #print(\"Já removidos: \" + str(removed))\n",
    "                population[ind] = 0;\n",
    "            else:\n",
    "                tries+=1\n",
    "    \n"
   ]
  },
  {
   "cell_type": "code",
   "execution_count": 10,
   "metadata": {},
   "outputs": [],
   "source": [
    "def mutate(individual):\n",
    "    n = 0\n",
    "    for gene in individual:\n",
    "        if random.random() < mutationRate:\n",
    "            individual[n] = random.randrange(101)\n",
    "        n+=1;\n",
    "    if individual[-1] <= 2:\n",
    "        individual[-1] = 3;\n",
    "    return individual;"
   ]
  },
  {
   "cell_type": "code",
   "execution_count": 11,
   "metadata": {},
   "outputs": [],
   "source": [
    "def crossover():\n",
    "    newborns = 0;\n",
    "    waitlist = []\n",
    "    while newborns < numPop/2:\n",
    "        #Selecionar aleatoriamente dois indivíduos\n",
    "        ind1 = random.randrange(numPop);\n",
    "        ind2 = random.randrange(numPop);\n",
    "        \n",
    "        while population[ind1] == 0:\n",
    "            ind1 = random.randrange(numPop);\n",
    "        while population[ind2] == 0 or ind2 == ind1:\n",
    "            ind2 = random.randrange(numPop);\n",
    "            \n",
    "        #Indivíduos selecionados e conferidos, agora é necessário definir o ponto de cruzamento\n",
    "        crosspoint = random.randrange(9)\n",
    "        \n",
    "        #Agora ocorre o real cruzamento. Ind1 doa a primeira parte e Ind2 doa a segunda parte.\n",
    "        newInd = []\n",
    "        newInd.extend(population[ind1][0:crosspoint])\n",
    "        newInd.extend(population[ind2][crosspoint:])\n",
    "        \n",
    "        #Com o indivíduo novo criado, ele é adicionado a uma lista de espera (para não participar dos cruzamentos), após ser mutado\n",
    "        newInd = mutate(newInd)\n",
    "        waitlist.append(newInd)\n",
    "        newborns+=1\n",
    "    \n",
    "    #Agora que acabaram os cruzamentos, precisamos repopular.\n",
    "    for item in waitlist:\n",
    "        if 0 in list(population.values()):\n",
    "            population[list(population.values()).index(0)] = item\n",
    "        "
   ]
  },
  {
   "cell_type": "code",
   "execution_count": 12,
   "metadata": {},
   "outputs": [],
   "source": [
    "def geneticAlg():\n",
    "    generatePop();\n",
    "    gen = 0;\n",
    "    while gen < generations:\n",
    "        print(\"Geração: \" + str(gen))\n",
    "        fitness = getFitness()\n",
    "        print('Melhor acurácia: ' + str(max(list(fitness.values()))))\n",
    "        selection(fitness)\n",
    "        crossover()\n",
    "        gen+=1"
   ]
  },
  {
   "cell_type": "code",
   "execution_count": 13,
   "metadata": {
    "scrolled": false
   },
   "outputs": [
    {
     "name": "stdout",
     "output_type": "stream",
     "text": [
      "Geração: 0\n",
      "Melhor acurácia: 0.6500559893473808\n",
      "Geração: 1\n",
      "Melhor acurácia: 0.6533814280588828\n",
      "Geração: 2\n",
      "Melhor acurácia: 0.6539493836079812\n",
      "Geração: 3\n",
      "Melhor acurácia: 0.6592095537989865\n",
      "Geração: 4\n",
      "Melhor acurácia: 0.6664517189121956\n",
      "Geração: 5\n",
      "Melhor acurácia: 0.6558074942395498\n",
      "Geração: 6\n",
      "Melhor acurácia: 0.6625636919259377\n",
      "Geração: 7\n",
      "Melhor acurácia: 0.6571106060286336\n",
      "Geração: 8\n",
      "Melhor acurácia: 0.6652704064611902\n",
      "Geração: 9\n",
      "Melhor acurácia: 0.6587188486324165\n",
      "Geração: 10\n",
      "Melhor acurácia: 0.6696236354907283\n",
      "Geração: 11\n",
      "Melhor acurácia: 0.6610220124721156\n",
      "Geração: 12\n",
      "Melhor acurácia: 0.6644314219324157\n",
      "Geração: 13\n",
      "Melhor acurácia: 0.6632770210097977\n",
      "Geração: 14\n",
      "Melhor acurácia: 0.6613901579161767\n",
      "Geração: 15\n",
      "Melhor acurácia: 0.6643529329627248\n",
      "Geração: 16\n",
      "Melhor acurácia: 0.6684752060057462\n",
      "Geração: 17\n",
      "Melhor acurácia: 0.6613364408315009\n",
      "Geração: 18\n",
      "Melhor acurácia: 0.6646634283053595\n",
      "Geração: 19\n",
      "Melhor acurácia: 0.6619948707153471\n"
     ]
    }
   ],
   "source": [
    "geneticAlg()"
   ]
  },
  {
   "cell_type": "code",
   "execution_count": 14,
   "metadata": {
    "scrolled": true
   },
   "outputs": [
    {
     "data": {
      "text/plain": [
       "{0: [1, 31, 51, 49, 65, 63, 31, 69, 97],\n",
       " 1: [1, 21, 29, 17, 30, 81, 9, 69, 90],\n",
       " 2: [1, 31, 19, 21, 30, 63, 82, 72, 56],\n",
       " 3: [1, 31, 35, 49, 65, 63, 22, 72, 56],\n",
       " 4: [1, 31, 29, 91, 85, 84, 76, 81, 28],\n",
       " 5: [1, 31, 29, 49, 65, 90, 9, 69, 90],\n",
       " 6: [1, 31, 35, 49, 65, 63, 22, 69, 90],\n",
       " 7: [1, 31, 29, 91, 85, 84, 9, 70, 28],\n",
       " 8: [1, 39, 35, 17, 30, 81, 9, 69, 90],\n",
       " 9: [1, 31, 19, 49, 30, 63, 9, 69, 97],\n",
       " 10: [1, 31, 19, 49, 93, 85, 20, 94, 62],\n",
       " 11: [1, 31, 51, 49, 93, 85, 9, 69, 90],\n",
       " 12: [1, 7, 29, 49, 30, 63, 20, 94, 62],\n",
       " 13: [1, 31, 19, 49, 93, 85, 9, 69, 90],\n",
       " 14: [1, 7, 16, 53, 93, 85, 9, 70, 28],\n",
       " 15: [1, 31, 51, 49, 93, 85, 9, 69, 90],\n",
       " 16: [35, 31, 19, 49, 30, 63, 45, 70, 90],\n",
       " 17: [1, 31, 29, 49, 65, 63, 9, 69, 97],\n",
       " 18: [1, 7, 16, 53, 93, 85, 30, 93, 57],\n",
       " 19: [1, 31, 35, 49, 30, 63, 9, 69, 97],\n",
       " 20: [79, 7, 16, 53, 18, 87, 17, 94, 39],\n",
       " 21: [1, 31, 19, 49, 30, 63, 22, 69, 90],\n",
       " 22: [1, 31, 19, 49, 65, 63, 22, 72, 56],\n",
       " 23: [1, 31, 29, 49, 65, 90, 9, 69, 90],\n",
       " 24: [1, 31, 51, 38, 30, 66, 71, 70, 28],\n",
       " 25: [1, 31, 19, 49, 65, 30, 17, 94, 39],\n",
       " 26: [1, 7, 8, 38, 30, 90, 71, 70, 28],\n",
       " 27: [1, 31, 19, 91, 85, 90, 20, 72, 56],\n",
       " 28: [1, 7, 29, 49, 30, 63, 82, 72, 56],\n",
       " 29: [1, 7, 16, 53, 93, 85, 9, 69, 90],\n",
       " 30: [48, 31, 51, 49, 93, 85, 9, 69, 90],\n",
       " 31: [1, 31, 19, 49, 85, 90, 20, 94, 39],\n",
       " 32: [1, 31, 35, 17, 65, 63, 22, 69, 90],\n",
       " 33: [1, 31, 35, 17, 65, 63, 22, 69, 90],\n",
       " 34: [1, 31, 19, 49, 93, 81, 17, 94, 39],\n",
       " 35: [1, 31, 19, 49, 30, 63, 22, 69, 90],\n",
       " 36: [1, 7, 29, 49, 65, 90, 30, 93, 57],\n",
       " 37: [1, 31, 51, 49, 93, 85, 9, 72, 90],\n",
       " 38: [1, 31, 29, 49, 65, 63, 31, 69, 57],\n",
       " 39: [1, 31, 19, 49, 30, 90, 17, 70, 62],\n",
       " 40: [1, 7, 16, 53, 95, 87, 17, 70, 28],\n",
       " 41: [1, 31, 11, 49, 65, 90, 30, 69, 90],\n",
       " 42: [1, 31, 29, 91, 85, 84, 9, 70, 28],\n",
       " 43: [1, 7, 16, 53, 93, 85, 9, 69, 90],\n",
       " 44: [1, 31, 19, 49, 85, 90, 9, 69, 90],\n",
       " 45: [1, 7, 29, 49, 30, 63, 31, 69, 57],\n",
       " 46: [1, 31, 29, 91, 18, 87, 17, 94, 39],\n",
       " 47: [1, 31, 19, 49, 65, 47, 17, 94, 39],\n",
       " 48: [1, 31, 19, 49, 85, 90, 20, 72, 56],\n",
       " 49: [1, 31, 19, 49, 85, 90, 20, 81, 28],\n",
       " 50: [1, 31, 35, 17, 65, 90, 20, 94, 56],\n",
       " 51: [1, 39, 29, 91, 85, 90, 20, 93, 100],\n",
       " 52: [1, 31, 35, 53, 95, 87, 17, 70, 28],\n",
       " 53: [1, 7, 16, 17, 30, 81, 9, 69, 90],\n",
       " 54: [35, 31, 19, 49, 93, 85, 9, 69, 90],\n",
       " 55: [1, 31, 29, 49, 65, 90, 30, 93, 57],\n",
       " 56: [1, 31, 19, 38, 30, 90, 71, 70, 28],\n",
       " 57: [35, 31, 19, 49, 30, 63, 45, 70, 90],\n",
       " 58: [35, 31, 19, 49, 30, 63, 9, 70, 28],\n",
       " 59: [1, 39, 29, 91, 85, 85, 9, 69, 90],\n",
       " 60: [1, 21, 29, 49, 65, 90, 30, 93, 57],\n",
       " 61: [1, 31, 19, 91, 85, 90, 20, 72, 56],\n",
       " 62: [1, 31, 19, 17, 65, 63, 22, 69, 90],\n",
       " 63: [1, 31, 29, 49, 65, 90, 9, 69, 90],\n",
       " 64: [1, 31, 51, 49, 65, 63, 82, 72, 56],\n",
       " 65: [1, 31, 19, 38, 30, 90, 17, 70, 62],\n",
       " 66: [1, 31, 19, 49, 93, 85, 9, 69, 90],\n",
       " 67: [37, 39, 35, 17, 30, 81, 20, 94, 39],\n",
       " 68: [1, 31, 51, 49, 65, 63, 30, 93, 57],\n",
       " 69: [1, 39, 29, 49, 65, 90, 30, 93, 57],\n",
       " 70: [1, 31, 51, 49, 65, 63, 31, 69, 57],\n",
       " 71: [1, 31, 19, 49, 93, 85, 9, 69, 90],\n",
       " 72: [1, 7, 16, 53, 93, 85, 9, 69, 90],\n",
       " 73: [1, 7, 16, 53, 93, 85, 9, 69, 90],\n",
       " 74: [1, 31, 16, 53, 93, 85, 9, 69, 90],\n",
       " 75: [1, 7, 16, 53, 95, 87, 17, 70, 28],\n",
       " 76: [1, 31, 35, 38, 30, 90, 17, 70, 62],\n",
       " 77: [1, 31, 29, 91, 85, 90, 20, 94, 56],\n",
       " 78: [1, 21, 16, 53, 93, 85, 9, 69, 90],\n",
       " 79: [1, 7, 16, 53, 95, 87, 9, 69, 90],\n",
       " 80: [1, 7, 16, 53, 95, 90, 20, 93, 100],\n",
       " 81: [1, 31, 29, 91, 85, 90, 20, 72, 56],\n",
       " 82: [1, 31, 29, 91, 85, 90, 20, 94, 56],\n",
       " 83: [1, 31, 19, 49, 65, 63, 22, 72, 56],\n",
       " 84: [1, 31, 51, 49, 65, 63, 31, 72, 56],\n",
       " 85: [1, 31, 51, 49, 65, 63, 9, 69, 57],\n",
       " 86: [1, 31, 29, 49, 65, 90, 30, 93, 57],\n",
       " 87: [1, 39, 35, 17, 30, 81, 17, 94, 39],\n",
       " 88: [1, 31, 51, 49, 65, 63, 9, 69, 57],\n",
       " 89: [1, 7, 16, 53, 95, 87, 17, 94, 90],\n",
       " 90: [1, 31, 19, 49, 30, 63, 9, 69, 97],\n",
       " 91: [1, 7, 16, 53, 93, 85, 9, 70, 28],\n",
       " 92: [1, 31, 35, 49, 65, 63, 22, 69, 90],\n",
       " 93: [35, 31, 19, 49, 30, 63, 9, 69, 97],\n",
       " 94: [1, 7, 16, 53, 93, 85, 9, 69, 90],\n",
       " 95: [1, 7, 8, 38, 30, 90, 71, 70, 28],\n",
       " 96: [1, 7, 16, 49, 30, 63, 9, 69, 97],\n",
       " 97: [1, 7, 16, 53, 95, 87, 17, 70, 90],\n",
       " 98: [1, 7, 8, 38, 30, 90, 71, 70, 28],\n",
       " 99: [1, 31, 29, 91, 85, 85, 9, 69, 90]}"
      ]
     },
     "execution_count": 14,
     "metadata": {},
     "output_type": "execute_result"
    }
   ],
   "source": [
    "population"
   ]
  },
  {
   "cell_type": "code",
   "execution_count": 15,
   "metadata": {
    "scrolled": true
   },
   "outputs": [
    {
     "name": "stdout",
     "output_type": "stream",
     "text": [
      "{0: 0.649142538729809, 1: 0.6503090719749488, 2: 0.6319266445112062, 3: 0.6502814424670579, 4: 0.6485240708646737, 5: 0.6540504886494124, 6: 0.6471400633438571, 7: 0.6603966764995033, 8: 0.6476947397483351, 9: 0.6547930438266848, 10: 0.6560403420094776, 11: 0.6424619886609004, 12: 0.6476536525490857, 13: 0.6522168064982095, 14: 0.653881552344307, 15: 0.6551753654868469, 16: 0.6274120112695953, 17: 0.6461242369392638, 18: 0.6530658129416644, 19: 0.6518720760891151, 20: 0.6366961566019393, 21: 0.663467037858738, 22: 0.6553101971131987, 23: 0.6512444958990135, 24: 0.6409700308641192, 25: 0.6366390419065346, 26: 0.6469520863679327, 27: 0.6498535658741107, 28: 0.6361027397435476, 29: 0.6454693189779095, 30: 0.641051331913277, 31: 0.6490134079546402, 32: 0.6523182454305486, 33: 0.643780797562277, 34: 0.6583819422586095, 35: 0.6534532133463433, 36: 0.6448176701638727, 37: 0.6448463599207104, 38: 0.6529669617903456, 39: 0.6538185294307128, 40: 0.6429426808904326, 41: 0.6469846066025735, 42: 0.6515904712489636, 43: 0.6595011914510659, 44: 0.6470286352266804, 45: 0.648712092577123, 46: 0.6456157766022788, 47: 0.6495718166317593, 48: 0.6588155681820675, 49: 0.64921138042264, 50: 0.6481510219667671, 51: 0.6525537306664961, 52: 0.6569466406079537, 53: 0.6475000810240132, 54: 0.6469304073888821, 55: 0.650052885585392, 56: 0.645802820056062, 57: 0.640582948362703, 58: 0.6386250888074148, 59: 0.6409821410548844, 60: 0.6485609167509715, 61: 0.6607093567188296, 62: 0.6466208579323424, 63: 0.6592538969620577, 64: 0.635418093104456, 65: 0.6607147823983164, 66: 0.6598978696021846, 67: 0.6307292084992773, 68: 0.6412396377338399, 69: 0.6473159257114439, 70: 0.6405054556540797, 71: 0.6518148814071683, 72: 0.6508058806888581, 73: 0.6450328934210265, 74: 0.6562248733516352, 75: 0.6439549775134361, 76: 0.65409191987764, 77: 0.6470841264507765, 78: 0.6511523530357288, 79: 0.6534068721447199, 80: 0.6563534610659605, 81: 0.6501406845087349, 82: 0.6515949841894434, 83: 0.6560067191923223, 84: 0.6460632196668703, 85: 0.6521921492892317, 86: 0.6495856558284888, 87: 0.645586905184005, 88: 0.6470003939960025, 89: 0.6506467338675465, 90: 0.6490676398162399, 91: 0.6459706122679234, 92: 0.6496266006995222, 93: 0.6385820319407316, 94: 0.6640421353284431, 95: 0.6501559347679792, 96: 0.6545447285503194, 97: 0.6547409402538639, 98: 0.6437364298204309, 99: 0.6478991830784289}\n"
     ]
    }
   ],
   "source": [
    "fitness = getFitness()\n",
    "print(fitness)"
   ]
  },
  {
   "cell_type": "code",
   "execution_count": 17,
   "metadata": {},
   "outputs": [
    {
     "data": {
      "text/plain": [
       "0.6640421353284431"
      ]
     },
     "execution_count": 17,
     "metadata": {},
     "output_type": "execute_result"
    }
   ],
   "source": [
    "max(fitness.values())"
   ]
  },
  {
   "cell_type": "code",
   "execution_count": 18,
   "metadata": {},
   "outputs": [
    {
     "data": {
      "text/plain": [
       "[1, 7, 16, 53, 93, 85, 9, 69, 90]"
      ]
     },
     "execution_count": 18,
     "metadata": {},
     "output_type": "execute_result"
    }
   ],
   "source": [
    "population[94]"
   ]
  },
  {
   "cell_type": "code",
   "execution_count": 19,
   "metadata": {},
   "outputs": [],
   "source": [
    "w = population[94]"
   ]
  },
  {
   "cell_type": "code",
   "execution_count": 20,
   "metadata": {},
   "outputs": [
    {
     "data": {
      "text/plain": [
       "0.6560040564976163"
      ]
     },
     "execution_count": 20,
     "metadata": {},
     "output_type": "execute_result"
    }
   ],
   "source": [
    "checkFitness(w)"
   ]
  },
  {
   "cell_type": "code",
   "execution_count": 21,
   "metadata": {},
   "outputs": [],
   "source": [
    "knn = KNeighborsClassifier(n_neighbors = w[8])"
   ]
  },
  {
   "cell_type": "code",
   "execution_count": null,
   "metadata": {},
   "outputs": [],
   "source": [
    "knn.fit()"
   ]
  },
  {
   "cell_type": "code",
   "execution_count": 29,
   "metadata": {},
   "outputs": [],
   "source": [
    "classes = abalones['type']\n",
    "trainingData = abalones.drop(columns=['type'])\n",
    "test = pandas.read_excel(\"app_processado.xlsx\");"
   ]
  },
  {
   "cell_type": "code",
   "execution_count": 30,
   "metadata": {
    "scrolled": true
   },
   "outputs": [],
   "source": [
    "#Aplicando pesos\n",
    "n = 0;\n",
    "for col in trainingData.columns:\n",
    "    trainingData[col] = trainingData[col]*w[n]\n",
    "    test[col] = test[col]*w[n]\n",
    "    n+=1"
   ]
  },
  {
   "cell_type": "code",
   "execution_count": 33,
   "metadata": {},
   "outputs": [],
   "source": [
    "#Aplicando K-NN\n",
    "knn.fit(trainingData, classes)\n",
    "\n",
    "results = knn.predict(test);"
   ]
  },
  {
   "cell_type": "code",
   "execution_count": 34,
   "metadata": {},
   "outputs": [
    {
     "data": {
      "text/plain": [
       "array([3, 2, 2, ..., 1, 1, 2], dtype=int64)"
      ]
     },
     "execution_count": 34,
     "metadata": {},
     "output_type": "execute_result"
    }
   ],
   "source": [
    "results"
   ]
  },
  {
   "cell_type": "code",
   "execution_count": 37,
   "metadata": {},
   "outputs": [],
   "source": [
    "# Enviando previsões realizadas com o modelo para o servidor\n",
    "URL = \"https://aydanomachado.com/mlclass/03_Validation.php\"\n",
    "\n",
    "\n",
    "#TODO Substituir pela sua chave aqui\n",
    "DEV_KEY = \"Ponte de Safena\"\n",
    "\n",
    "# json para ser enviado para o servidor\n",
    "data = {'dev_key':DEV_KEY,\n",
    "        'predictions':pandas.Series(results).to_json(orient='values')}\n",
    "\n",
    "# Enviando requisição e salvando o objeto resposta\n",
    "r = requests.post(url = URL, data = data)\n",
    "\n",
    "# Extraindo e imprimindo o texto da resposta\n",
    "pastebin_url = r.text\n",
    "print(\" - Resposta do servidor:\\n\", r.text, \"\\n\")\n"
   ]
  },
  {
   "cell_type": "code",
   "execution_count": 38,
   "metadata": {
    "scrolled": false
   },
   "outputs": [
    {
     "data": {
      "text/plain": [
       "{'dev_key': 'Ponte de Safena',\n",
       " 'predictions': '[3,2,2,3,3,1,1,2,3,3,2,3,3,1,2,3,2,1,3,3,2,2,1,2,3,2,3,3,2,3,2,2,1,3,2,2,2,3,2,1,1,1,3,1,2,3,3,3,2,1,2,3,3,3,2,2,3,1,1,1,3,2,3,2,2,1,3,3,3,1,2,3,1,1,1,1,1,2,1,1,3,2,2,2,2,2,2,1,2,1,1,1,3,2,2,2,3,2,2,1,2,1,1,2,3,2,1,3,2,2,2,3,2,3,1,2,1,2,2,1,2,1,2,3,1,3,1,1,1,3,2,1,3,2,1,1,2,3,2,2,1,3,1,2,1,2,1,2,1,1,3,1,1,2,3,3,2,2,1,3,1,3,3,1,3,2,3,2,1,2,2,2,1,2,2,2,3,2,2,1,1,1,2,1,1,2,2,3,1,3,3,2,1,3,3,1,1,2,2,1,3,2,1,3,2,1,1,2,3,2,1,2,3,1,3,2,1,1,2,1,3,1,1,2,1,2,1,2,2,3,1,1,3,1,1,2,3,1,1,1,2,3,2,3,1,3,2,2,1,1,2,3,2,2,2,2,1,3,3,1,3,1,2,3,2,2,3,3,2,1,2,1,1,2,1,2,2,3,1,1,2,1,1,1,2,3,2,1,2,2,2,2,2,3,2,3,1,2,1,3,2,2,1,2,3,2,2,3,2,2,1,3,1,3,2,3,2,1,1,3,3,1,1,1,3,2,1,1,1,3,2,3,1,1,2,1,2,1,2,2,1,2,2,2,2,3,1,2,1,1,2,3,1,3,3,3,3,2,1,3,3,1,3,3,3,2,1,2,3,3,1,1,3,2,3,3,1,1,1,1,2,2,1,3,3,1,1,1,2,1,1,1,1,3,2,1,2,1,1,1,2,1,2,2,2,3,1,3,1,3,1,1,2,1,3,2,2,2,1,1,1,3,1,3,3,2,2,1,1,2,3,1,2,2,1,1,2,2,2,1,2,2,3,2,2,3,1,1,2,2,3,1,3,3,3,1,1,1,1,1,1,2,2,2,3,3,1,3,3,3,2,2,3,3,1,1,3,1,2,1,2,2,1,2,2,1,2,3,3,3,2,3,2,2,3,3,3,1,3,2,1,2,2,2,1,3,1,2,3,1,1,3,2,1,1,2,2,3,3,2,2,3,1,1,1,3,2,1,2,1,3,2,1,1,1,1,2,1,2,1,1,3,3,3,1,3,1,2,1,1,1,2,3,1,2,2,3,2,2,1,2,3,2,3,1,1,3,3,3,2,2,1,2,3,3,2,2,1,1,3,2,2,1,1,2,3,2,1,1,1,2,3,3,1,1,2,1,3,1,2,3,1,1,2,1,3,1,1,2,1,2,2,1,3,1,1,2,3,1,1,1,1,2,1,3,3,1,1,1,2,2,1,1,3,3,2,1,1,2,1,1,1,3,2,3,2,1,1,3,1,1,3,3,1,3,1,1,1,3,1,1,1,2,1,2,2,2,1,1,2,1,1,2,1,2,2,2,3,2,1,1,3,1,2,3,3,2,3,3,1,2,2,2,1,1,3,3,3,2,1,2,1,1,3,3,1,1,3,3,3,2,2,1,1,2,2,1,2,2,3,1,2,3,1,2,1,2,1,2,1,3,1,1,1,2,2,2,3,1,2,2,3,1,1,3,1,1,1,1,3,3,1,3,2,2,2,3,2,1,1,1,1,3,3,2,3,1,3,2,3,1,2,3,1,1,3,2,2,1,1,2,1,1,2,2,3,2,3,3,1,1,2,3,1,1,1,3,3,1,1,3,3,3,2,2,1,2,1,2,3,2,3,1,1,1,1,2,3,1,1,2,1,3,2,2,1,2,2,2,1,2,3,1,1,1,2,1,2,2,2,2,3,2,3,3,3,1,3,3,2,2,1,3,1,3,1,3,1,2,3,3,2,1,1,2,3,1,2,2,2,3,2,3,2,2,3,2,1,1,2,1,1,2,3,2,3,3,3,2,3,3,3,3,2,3,2,3,3,1,1,1,3,1,1,1,2,2,1,2,3,3,2,1,3,2,1,2,3,3,3,1,3,3,2,3,1,3,3,1,2,2,1,1,3,1,2,3,1,2,1,1,2,2,1,1,3,2,1,1,2,1,3,3,1,2,2,1,1,2,1,2,2,1,1,2,2,2,2,1,2,1,1,1,2,1,2,3,3,2,2,3,1,1,1,3,2,3,3,1,1,1,2,3,3,1,1,1,3,2,3,2,1,2,3,3,2,3,2,2,2,1,3,2,3,2,3,3,3,1,3,1,2,3,3,3,2,2,1,1,1,3,3,3,1,3,2,2,3,1,1,1,1,1,1,2]'}"
      ]
     },
     "execution_count": 38,
     "metadata": {},
     "output_type": "execute_result"
    }
   ],
   "source": [
    "data"
   ]
  },
  {
   "cell_type": "code",
   "execution_count": 42,
   "metadata": {},
   "outputs": [
    {
     "data": {
      "text/plain": [
       "1045"
      ]
     },
     "execution_count": 42,
     "metadata": {},
     "output_type": "execute_result"
    }
   ],
   "source": [
    "len([3,2,2,3,3,1,1,2,3,3,2,3,3,1,2,3,2,1,3,3,2,2,1,2,3,2,3,3,2,3,2,2,1,3,2,2,2,3,2,1,1,1,3,1,2,3,3,3,2,1,2,3,3,3,2,2,3,1,1,1,3,2,3,2,2,1,3,3,3,1,2,3,1,1,1,1,1,2,1,1,3,2,2,2,2,2,2,1,2,1,1,1,3,2,2,2,3,2,2,1,2,1,1,2,3,2,1,3,2,2,2,3,2,3,1,2,1,2,2,1,2,1,2,3,1,3,1,1,1,3,2,1,3,2,1,1,2,3,2,2,1,3,1,2,1,2,1,2,1,1,3,1,1,2,3,3,2,2,1,3,1,3,3,1,3,2,3,2,1,2,2,2,1,2,2,2,3,2,2,1,1,1,2,1,1,2,2,3,1,3,3,2,1,3,3,1,1,2,2,1,3,2,1,3,2,1,1,2,3,2,1,2,3,1,3,2,1,1,2,1,3,1,1,2,1,2,1,2,2,3,1,1,3,1,1,2,3,1,1,1,2,3,2,3,1,3,2,2,1,1,2,3,2,2,2,2,1,3,3,1,3,1,2,3,2,2,3,3,2,1,2,1,1,2,1,2,2,3,1,1,2,1,1,1,2,3,2,1,2,2,2,2,2,3,2,3,1,2,1,3,2,2,1,2,3,2,2,3,2,2,1,3,1,3,2,3,2,1,1,3,3,1,1,1,3,2,1,1,1,3,2,3,1,1,2,1,2,1,2,2,1,2,2,2,2,3,1,2,1,1,2,3,1,3,3,3,3,2,1,3,3,1,3,3,3,2,1,2,3,3,1,1,3,2,3,3,1,1,1,1,2,2,1,3,3,1,1,1,2,1,1,1,1,3,2,1,2,1,1,1,2,1,2,2,2,3,1,3,1,3,1,1,2,1,3,2,2,2,1,1,1,3,1,3,3,2,2,1,1,2,3,1,2,2,1,1,2,2,2,1,2,2,3,2,2,3,1,1,2,2,3,1,3,3,3,1,1,1,1,1,1,2,2,2,3,3,1,3,3,3,2,2,3,3,1,1,3,1,2,1,2,2,1,2,2,1,2,3,3,3,2,3,2,2,3,3,3,1,3,2,1,2,2,2,1,3,1,2,3,1,1,3,2,1,1,2,2,3,3,2,2,3,1,1,1,3,2,1,2,1,3,2,1,1,1,1,2,1,2,1,1,3,3,3,1,3,1,2,1,1,1,2,3,1,2,2,3,2,2,1,2,3,2,3,1,1,3,3,3,2,2,1,2,3,3,2,2,1,1,3,2,2,1,1,2,3,2,1,1,1,2,3,3,1,1,2,1,3,1,2,3,1,1,2,1,3,1,1,2,1,2,2,1,3,1,1,2,3,1,1,1,1,2,1,3,3,1,1,1,2,2,1,1,3,3,2,1,1,2,1,1,1,3,2,3,2,1,1,3,1,1,3,3,1,3,1,1,1,3,1,1,1,2,1,2,2,2,1,1,2,1,1,2,1,2,2,2,3,2,1,1,3,1,2,3,3,2,3,3,1,2,2,2,1,1,3,3,3,2,1,2,1,1,3,3,1,1,3,3,3,2,2,1,1,2,2,1,2,2,3,1,2,3,1,2,1,2,1,2,1,3,1,1,1,2,2,2,3,1,2,2,3,1,1,3,1,1,1,1,3,3,1,3,2,2,2,3,2,1,1,1,1,3,3,2,3,1,3,2,3,1,2,3,1,1,3,2,2,1,1,2,1,1,2,2,3,2,3,3,1,1,2,3,1,1,1,3,3,1,1,3,3,3,2,2,1,2,1,2,3,2,3,1,1,1,1,2,3,1,1,2,1,3,2,2,1,2,2,2,1,2,3,1,1,1,2,1,2,2,2,2,3,2,3,3,3,1,3,3,2,2,1,3,1,3,1,3,1,2,3,3,2,1,1,2,3,1,2,2,2,3,2,3,2,2,3,2,1,1,2,1,1,2,3,2,3,3,3,2,3,3,3,3,2,3,2,3,3,1,1,1,3,1,1,1,2,2,1,2,3,3,2,1,3,2,1,2,3,3,3,1,3,3,2,3,1,3,3,1,2,2,1,1,3,1,2,3,1,2,1,1,2,2,1,1,3,2,1,1,2,1,3,3,1,2,2,1,1,2,1,2,2,1,1,2,2,2,2,1,2,1,1,1,2,1,2,3,3,2,2,3,1,1,1,3,2,3,3,1,1,1,2,3,3,1,1,1,3,2,3,2,1,2,3,3,2,3,2,2,2,1,3,2,3,2,3,3,3,1,3,1,2,3,3,3,2,2,1,1,1,3,3,3,1,3,2,2,3,1,1,1,1,1,1,2])"
   ]
  },
  {
   "cell_type": "code",
   "execution_count": 39,
   "metadata": {},
   "outputs": [],
   "source": [
    "import requests"
   ]
  },
  {
   "cell_type": "code",
   "execution_count": 43,
   "metadata": {},
   "outputs": [
    {
     "name": "stdout",
     "output_type": "stream",
     "text": [
      " - Resposta do servidor:\n",
      " {\"status\":\"success\",\"dev_key\":\"Ponte de Safena\",\"accuracy\":0.6095693779904306,\"old_accuracy\":0.35693779904306} \n",
      "\n"
     ]
    }
   ],
   "source": [
    "URL = \"https://aydanomachado.com/mlclass/03_Validation.php\"\n",
    "r = requests.post(url = URL, data = data)\n",
    "pastebin_url = r.text\n",
    "print(\" - Resposta do servidor:\\n\", r.text, \"\\n\")\n"
   ]
  },
  {
   "cell_type": "code",
   "execution_count": null,
   "metadata": {},
   "outputs": [],
   "source": [
    "#Geração Aleatória\n",
    "for n in range(numChanges):\n",
    "    weights = [random.random(),random.random(),random.random(),random.random(),random.random(),random.random(),random.random(),random.random(), random.randrange(3, 50, 2)]    \n",
    "    accuracyResults = [];\n",
    "\n",
    "    for n in range(numReps):\n",
    "        knn = KNeighborsClassifier(n_neighbors = weights[8]);\n",
    "\n",
    "        #Selecionando índices para teste e treino\n",
    "        trainingIndexes = [];\n",
    "        testIndexes = [];\n",
    "        n = 0;\n",
    "        for item in abalones[\"sex\"]:\n",
    "            if random.random() > randomSplit:\n",
    "                trainingIndexes.append(n)\n",
    "            else:\n",
    "                testIndexes.append(n)\n",
    "            n+=1\n",
    "\n",
    "        #Criando os dataframes de treino e teste e separando os classificadores\n",
    "        testData = abalones.drop(trainingIndexes);\n",
    "        testClasses = testData[\"type\"];\n",
    "        testData = testData.drop(columns=[\"type\"]);\n",
    "\n",
    "        trainingData = abalones.drop(testIndexes);\n",
    "        classifications = trainingData[\"type\"]\n",
    "        trainingData = trainingData.drop(columns=[\"type\"])\n",
    "\n",
    "        #Aplicando pesos\n",
    "        n = 0;\n",
    "        for col in trainingData.columns:\n",
    "            trainingData[col] = trainingData[col]*weights[n]\n",
    "            testData[col] = testData[col]*weights[n]\n",
    "            n+=1\n",
    "\n",
    "        #Aplicando K-NN\n",
    "        knn.fit(trainingData, classifications)\n",
    "\n",
    "        results = knn.predict(testData);\n",
    "\n",
    "        #Testando acurácia\n",
    "        n = 0;\n",
    "        correctPredictions = 0;\n",
    "        for item in testClasses:\n",
    "            if item == results[n]:\n",
    "                correctPredictions += 1;\n",
    "            n+=1  \n",
    "\n",
    "        acc = correctPredictions/len(results)\n",
    "        accuracyResults.append(acc)\n",
    "\n",
    "    meanAcc = sum(accuracyResults)/len(accuracyResults)\n",
    "    print(\"Acurácia média em \" + str(numReps) + \" tentativas: \" + str(meanAcc))\n",
    "    print(\"\\n----- PARÂMETROS -----\\nNúmero de Vizinhos: \" + str(weights[8])\n",
    "          + \"\\nSexo: \" + str(weights[0]) \n",
    "          + \"\\nComprimento: \" + str(weights[1])\n",
    "          + \"\\nDiâmetro: \" + str(weights[2])\n",
    "          + \"\\nAltura: \" + str(weights[3])\n",
    "          + \"\\nPeso cheio: \" + str(weights[4])\n",
    "          + \"\\nPeso vazio: \" + str(weights[5])\n",
    "          + \"\\nPeso das vísceras: \" + str(weights[6])\n",
    "          + \"\\nPeso da concha: \" + str(weights[7])\n",
    "         )\n",
    "    accuracy[str(weights)] = meanAcc"
   ]
  },
  {
   "cell_type": "code",
   "execution_count": null,
   "metadata": {},
   "outputs": [],
   "source": [
    "#Forward selection\n",
    "\n",
    "def forwardSelection(baseWeights, baseAcc):\n",
    "    m = 0;\n",
    "    accs = [];\n",
    "    for col in abalones.columns[:8]:\n",
    "        weights = baseWeights.copy();\n",
    "        weights[m] = 1\n",
    "        accuracyResults = [];\n",
    "    \n",
    "        for num in range(numReps):\n",
    "            knn = KNeighborsClassifier(n_neighbors = weights[8]);\n",
    "\n",
    "            #Selecionando índices para teste e treino\n",
    "            trainingIndexes = [];\n",
    "            testIndexes = [];\n",
    "            n = 0;\n",
    "            for item in abalones[\"sex\"]:\n",
    "                if random.random() > randomSplit:\n",
    "                    trainingIndexes.append(n)\n",
    "                else:\n",
    "                    testIndexes.append(n)\n",
    "                n+=1\n",
    "\n",
    "            #Criando os dataframes de treino e teste e separando os classificadores\n",
    "            testData = abalones.drop(trainingIndexes);\n",
    "            testClasses = testData[\"type\"];\n",
    "            testData = testData.drop(columns=[\"type\"]);\n",
    "\n",
    "            trainingData = abalones.drop(testIndexes);\n",
    "            classifications = trainingData[\"type\"]\n",
    "            trainingData = trainingData.drop(columns=[\"type\"])\n",
    "\n",
    "            #Aplicando pesos\n",
    "            n = 0;\n",
    "            for col in trainingData.columns:\n",
    "                trainingData[col] = trainingData[col]*weights[n]\n",
    "                testData[col] = testData[col]*weights[n]\n",
    "                n+=1\n",
    "\n",
    "            #Aplicando K-NN\n",
    "            knn.fit(trainingData, classifications)\n",
    "\n",
    "            results = knn.predict(testData);\n",
    "\n",
    "            #Testando acurácia\n",
    "            n = 0;\n",
    "            correctPredictions = 0;\n",
    "            for item in testClasses:\n",
    "                if item == results[n]:\n",
    "                    correctPredictions += 1;\n",
    "                n+=1  \n",
    "\n",
    "            acc = correctPredictions/len(results)\n",
    "            accuracyResults.append(acc)\n",
    "\n",
    "        meanAcc = sum(accuracyResults)/len(accuracyResults)\n",
    "        '''print(\"Acurácia média em \" + str(numReps) + \" tentativas: \" + str(meanAcc))\n",
    "        print(\"\\n----- PARÂMETROS -----\\nNúmero de Vizinhos: \" + str(weights[8])\n",
    "              + \"\\nSexo: \" + str(weights[0]) \n",
    "              + \"\\nComprimento: \" + str(weights[1])\n",
    "              + \"\\nDiâmetro: \" + str(weights[2])\n",
    "              + \"\\nAltura: \" + str(weights[3])\n",
    "              + \"\\nPeso cheio: \" + str(weights[4])\n",
    "              + \"\\nPeso vazio: \" + str(weights[5])\n",
    "              + \"\\nPeso das vísceras: \" + str(weights[6])\n",
    "              + \"\\nPeso da concha: \" + str(weights[7]) + \"\\n\\n\"\n",
    "             )'''\n",
    "        accs.append(meanAcc)\n",
    "        m+=1\n",
    "    \n",
    "    #print(\"Acurácias finais: \" + str(accs) + '\\n\\n')\n",
    "    \n",
    "    #Índice do melhor resultado\n",
    "    ind = accs.index(max(accs))\n",
    "    \n",
    "    #Conferindo se houve melhora nessa recursão, caso não, já retorna a última lista de parâmetros\n",
    "    if accs[ind] <= baseAcc:\n",
    "        print(\"Resultado final: \" + str(accs[ind]) + \"%\")\n",
    "        return baseWeights\n",
    "    #Caso haja melhora, a função será chamada novamente, com uma nova base de pesos e com a melhor acurácia\n",
    "    else:\n",
    "        newWeights = baseWeights.copy();\n",
    "        newWeights[ind] = 1;\n",
    "        return forwardSelection(newWeights, accs[ind])\n",
    "    \n",
    "    \n",
    "for neighs in [5,15,25,50]:\n",
    "    print(forwardSelection([0,0,0,0,0,0,0,0,neighs], 0))\n",
    "\n",
    "#bestSet = forwardSelection([0,0,0,0,0,0,0,0,5], 0)"
   ]
  }
 ],
 "metadata": {
  "kernelspec": {
   "display_name": "Python 3",
   "language": "python",
   "name": "python3"
  },
  "language_info": {
   "codemirror_mode": {
    "name": "ipython",
    "version": 3
   },
   "file_extension": ".py",
   "mimetype": "text/x-python",
   "name": "python",
   "nbconvert_exporter": "python",
   "pygments_lexer": "ipython3",
   "version": "3.7.0"
  }
 },
 "nbformat": 4,
 "nbformat_minor": 2
}
